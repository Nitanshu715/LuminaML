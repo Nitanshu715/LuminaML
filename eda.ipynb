{
 "cells": [
  {
   "cell_type": "code",
   "execution_count": null,
   "id": "9e345f49",
   "metadata": {},
   "outputs": [],
   "source": [
    "# EDA.ipynb\n",
    "\n",
    "# 👋 Basic data exploration\n",
    "import pandas as pd\n",
    "import matplotlib.pyplot as plt\n",
    "import seaborn as sns\n",
    "import os\n",
    "\n",
    "# Paths\n",
    "train_path = os.path.join(\"student_resource\", \"dataset\", \"train.csv\")\n",
    "test_path = os.path.join(\"student_resource\", \"dataset\", \"test.csv\")\n",
    "\n",
    "# Load data\n",
    "train = pd.read_csv(train_path)\n",
    "test = pd.read_csv(test_path)\n",
    "\n",
    "print(\"🧾 Train Shape:\", train.shape)\n",
    "print(\"🧾 Test Shape:\", test.shape)\n",
    "print(\"\\nTrain columns:\", list(train.columns))\n",
    "print(\"\\nSample rows:\")\n",
    "display(train.head())\n",
    "\n",
    "# Checking for missing values\n",
    "print(\"\\nMissing values per column:\")\n",
    "display(train.isnull().sum())\n",
    "\n",
    "# Target distribution\n",
    "plt.figure(figsize=(8,4))\n",
    "sns.histplot(train['price'], kde=True, color=\"purple\")\n",
    "plt.title(\"Price Distribution\")\n",
    "plt.show()\n",
    "\n",
    "# Feature correlation (numerical columns only)\n",
    "num_cols = train.select_dtypes(include=['int64', 'float64']).columns\n",
    "plt.figure(figsize=(8,6))\n",
    "sns.heatmap(train[num_cols].corr(), annot=True, cmap=\"coolwarm\")\n",
    "plt.title(\"Correlation Matrix\")\n",
    "plt.show()\n",
    "\n",
    "# Compare train & test columns\n",
    "print(\"\\nColumns in train but not in test:\", set(train.columns) - set(test.columns))\n"
   ]
  }
 ],
 "metadata": {
  "language_info": {
   "name": "python"
  }
 },
 "nbformat": 4,
 "nbformat_minor": 5
}
