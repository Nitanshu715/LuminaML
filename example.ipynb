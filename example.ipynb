{
 "cells": [
  {
   "cell_type": "markdown",
   "id": "d9006034",
   "metadata": {},
   "source": [
    "##  Basic Library imports"
   ]
  },
  {
   "cell_type": "code",
   "execution_count": null,
   "id": "432e4616",
   "metadata": {},
   "outputs": [],
   "source": [
    "import os\n",
    "import pandas as pd \n",
    "import numpy as np"
   ]
  },
  {
   "cell_type": "code",
   "execution_count": null,
   "id": "c20d18f9",
   "metadata": {},
   "outputs": [],
   "source": [
    "# example.ipynb\n",
    "\n",
    "# 🚀 AmazonML Example Notebook\n",
    "# Run this top to bottom to execute the full ML pipeline\n",
    "\n",
    "import os\n",
    "import sys\n",
    "import importlib\n",
    "\n",
    "sys.path.append(os.path.join(\"student_resource\", \"src\"))\n",
    "\n",
    "from train import train_model\n",
    "from predict import predict\n",
    "\n",
    "print(\"✅ Environment ready!\")\n",
    "\n",
    "# Train models\n",
    "print(\"\\n🧠 Training the model...\")\n",
    "train_model()\n",
    "\n",
    "# Predict\n",
    "print(\"\\n🔮 Generating predictions...\")\n",
    "predict()\n",
    "\n",
    "# Check submission\n",
    "import pandas as pd\n",
    "output_path = os.path.join(\"student_resource\", \"submission\", \"test_out.csv\")\n",
    "sub = pd.read_csv(output_path)\n",
    "print(\"\\n✅ Submission Preview:\")\n",
    "display(sub.head())\n"
   ]
  },
  {
   "cell_type": "markdown",
   "id": "f8811f03",
   "metadata": {},
   "source": [
    "##  Read Dataset"
   ]
  },
  {
   "cell_type": "code",
   "execution_count": null,
   "id": "15cad5fd",
   "metadata": {},
   "outputs": [],
   "source": [
    "DATASET_FOLDER = '../dataset/'\n",
    "train = pd.read_csv(os.path.join(DATASET_FOLDER, 'train.csv'))\n",
    "test = pd.read_csv(os.path.join(DATASET_FOLDER, 'test.csv'))\n",
    "sample_test = pd.read_csv(os.path.join(DATASET_FOLDER, 'sample_test.csv'))\n",
    "sample_test_out = pd.read_csv(os.path.join(DATASET_FOLDER, 'sample_test_out.csv'))"
   ]
  },
  {
   "cell_type": "code",
   "execution_count": null,
   "id": "4ae4e0f9",
   "metadata": {},
   "outputs": [],
   "source": [
    "from utils import download_images\n",
    "download_images(sample_test['image_link'], '../images')\n"
   ]
  },
  {
   "cell_type": "code",
   "execution_count": null,
   "id": "2e1bbc48",
   "metadata": {},
   "outputs": [],
   "source": [
    "assert len(os.listdir('../images')) > 0"
   ]
  },
  {
   "cell_type": "code",
   "execution_count": null,
   "id": "537ce2f5",
   "metadata": {},
   "outputs": [],
   "source": [
    "rm -rf ../images"
   ]
  }
 ],
 "metadata": {
  "kernelspec": {
   "display_name": "Python 3",
   "language": "python",
   "name": "python3"
  },
  "language_info": {
   "name": "python",
   "version": "3.10.18"
  }
 },
 "nbformat": 4,
 "nbformat_minor": 5
}
